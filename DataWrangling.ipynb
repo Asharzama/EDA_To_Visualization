{
 "cells": [
  {
   "cell_type": "code",
   "execution_count": 19,
   "id": "e4c777dd-7efc-42d8-a562-80293d8f7a4c",
   "metadata": {},
   "outputs": [],
   "source": [
    "import pandas as pd\n",
    "import numpy as np\n",
    "import matplotlib.pyplot as plt\n"
   ]
  },
  {
   "cell_type": "code",
   "execution_count": 20,
   "id": "64f14350-e7dd-42a7-91f4-2b52fa95660d",
   "metadata": {},
   "outputs": [],
   "source": [
    "chicago = pd.read_csv(\"Chicago listings.csv\")\n",
    "new_orleans = pd.read_csv(\"New Orleans listings.csv\")"
   ]
  },
  {
   "cell_type": "code",
   "execution_count": 21,
   "id": "320941df-3d8f-42f9-b1e5-0c5b7d528bbc",
   "metadata": {},
   "outputs": [
    {
     "name": "stdout",
     "output_type": "stream",
     "text": [
      "id                                                 0\n",
      "listing_url                                        0\n",
      "scrape_id                                          0\n",
      "last_scraped                                       0\n",
      "source                                             0\n",
      "                                                ... \n",
      "calculated_host_listings_count                     0\n",
      "calculated_host_listings_count_entire_homes        0\n",
      "calculated_host_listings_count_private_rooms       0\n",
      "calculated_host_listings_count_shared_rooms        0\n",
      "reviews_per_month                               1782\n",
      "Length: 79, dtype: int64\n",
      "id                                                 0\n",
      "listing_url                                        0\n",
      "scrape_id                                          0\n",
      "last_scraped                                       0\n",
      "source                                             0\n",
      "                                                ... \n",
      "calculated_host_listings_count                     0\n",
      "calculated_host_listings_count_entire_homes        0\n",
      "calculated_host_listings_count_private_rooms       0\n",
      "calculated_host_listings_count_shared_rooms        0\n",
      "reviews_per_month                               1215\n",
      "Length: 79, dtype: int64\n"
     ]
    }
   ],
   "source": [
    "print(chicago.isnull().sum())\n",
    "print(new_orleans.isnull().sum())\n",
    "\n",
    "columns_to_keep = ['id', 'name', 'host_id', 'host_name', 'neighbourhood_cleansed', 'latitude',\n",
    "                   'longitude', 'room_type', 'price', 'minimum_nights',\n",
    "                   'number_of_reviews', 'last_review', 'reviews_per_month',\n",
    "                   'availability_365']\n",
    "\n",
    "chicago = chicago[columns_to_keep]\n",
    "new_orleans = new_orleans[columns_to_keep]\n",
    "\n",
    "for df in [chicago, new_orleans]:\n",
    "    df['price'] = df['price'].replace(r'[$,]', '', regex=True).astype(float)"
   ]
  },
  {
   "cell_type": "code",
   "execution_count": 22,
   "id": "63880577-7eaa-49c4-b129-b4a46ec6548a",
   "metadata": {},
   "outputs": [],
   "source": [
    "chicago[\"city\"] = \"Chicago\"\n",
    "new_orleans[\"city\"] = \"New Orleans\"\n",
    "\n",
    "airbnb_data = pd.concat([chicago, new_orleans], ignore_index=True)"
   ]
  },
  {
   "cell_type": "code",
   "execution_count": 23,
   "id": "d7b216de-8829-40bb-a898-7b3516910971",
   "metadata": {},
   "outputs": [],
   "source": [
    "airbnb_data['reviews_per_month'] = airbnb_data['reviews_per_month'].fillna(0)\n",
    "\n",
    "airbnb_data['last_review'] = airbnb_data['last_review'].fillna(\"No review\")"
   ]
  },
  {
   "cell_type": "code",
   "execution_count": 27,
   "id": "3d533b95-ca80-40d9-b494-5c0725915353",
   "metadata": {},
   "outputs": [
    {
     "name": "stdout",
     "output_type": "stream",
     "text": [
      "id                        0\n",
      "name                      0\n",
      "host_id                   0\n",
      "host_name                 0\n",
      "neighbourhood_cleansed    0\n",
      "latitude                  0\n",
      "longitude                 0\n",
      "room_type                 0\n",
      "price                     0\n",
      "minimum_nights            0\n",
      "number_of_reviews         0\n",
      "last_review               0\n",
      "reviews_per_month         0\n",
      "availability_365          0\n",
      "city                      0\n",
      "dtype: int64\n"
     ]
    }
   ],
   "source": [
    "airbnb_data['host_name'] = airbnb_data['host_name'].fillna(\"Unknown\")\n",
    "airbnb_data = airbnb_data.dropna(subset=['price'])\n",
    "\n",
    "print(airbnb_data.isnull().sum())"
   ]
  },
  {
   "cell_type": "code",
   "execution_count": 28,
   "id": "ebc866ab-8d94-47aa-b256-70840e699aaf",
   "metadata": {},
   "outputs": [],
   "source": [
    "airbnb_data.to_csv(\"clean_airbnb_data.csv\", index=False)"
   ]
  },
  {
   "cell_type": "code",
   "execution_count": null,
   "id": "d739036d-d6ca-4d19-b3c1-bf76b3aedbb4",
   "metadata": {},
   "outputs": [],
   "source": []
  }
 ],
 "metadata": {
  "kernelspec": {
   "display_name": "Python 3 (ipykernel)",
   "language": "python",
   "name": "python3"
  },
  "language_info": {
   "codemirror_mode": {
    "name": "ipython",
    "version": 3
   },
   "file_extension": ".py",
   "mimetype": "text/x-python",
   "name": "python",
   "nbconvert_exporter": "python",
   "pygments_lexer": "ipython3",
   "version": "3.12.2"
  }
 },
 "nbformat": 4,
 "nbformat_minor": 5
}
